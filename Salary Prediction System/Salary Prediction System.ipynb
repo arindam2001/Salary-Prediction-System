{
 "cells": [
  {
   "cell_type": "code",
   "execution_count": 3,
   "id": "3e619e64",
   "metadata": {},
   "outputs": [
    {
     "name": "stdout",
     "output_type": "stream",
     "text": [
      "Welcome to Salary Prediction System\n",
      "Press ENTER key to procede\n",
      "\n",
      "0 ... Salary_Data.csv\n",
      "Select file to create ML model0\n",
      "Salary_Data.csv is selected\n",
      "Reading csv file\n",
      "Creating Dataset\n",
      "Dataset created\n",
      "Enter test data size (between 0 and 1)0.2\n",
      "Model Creation in progress\n",
      "Model is created\n",
      "Press ENTER key to predict test data in trained model\n",
      "\n",
      "[[4. ]\n",
      " [4.1]\n",
      " [3.2]\n",
      " [6. ]\n",
      " [5.3]\n",
      " [9.6]] ... [ 56957.  57081.  64445.  93940.  83088. 112635.] ... [ 63157.76766164  64106.99066203  55563.98365855  82142.22766937\n",
      "  75497.66666667 116314.25568328]\n",
      "[4.] ... 56957.0 ... 63157.76766164349\n",
      "[4.1] ... 57081.0 ... 64106.990662029886\n",
      "[3.2] ... 64445.0 ... 55563.9836585523\n",
      "[6.] ... 93940.0 ... 82142.22766937147\n",
      "[5.3] ... 83088.0 ... 75497.66666666667\n",
      "[9.6] ... 112635.0 ... 116314.2556832818\n",
      "Press ENTER key to see above result in graphical format\n",
      "\n"
     ]
    },
    {
     "data": {
      "image/png": "[encoded data removed]",
      "text/plain": [
       "<Figure size 432x288 with 1 Axes>"
      ]
     },
     "metadata": {
      "needs_background": "light"
     },
     "output_type": "display_data"
    },
    {
     "name": "stdout",
     "output_type": "stream",
     "text": [
      "Our model is 85.18% accurate\n",
      "Now you can predict salary of an employee using our model\n",
      "\n",
      "Enter experience in years of the candidates, seperated by comma\n",
      "6.5,2.2,1.5,4.3,0.5\n"
     ]
    },
    {
     "data": {
      "image/png": "[encoded data removed]",
      "text/plain": [
       "<Figure size 432x288 with 1 Axes>"
      ]
     },
     "metadata": {
      "needs_background": "light"
     },
     "output_type": "display_data"
    },
    {
     "name": "stdout",
     "output_type": "stream",
     "text": [
      "   Experience      Salaries\n",
      "0         6.5  86888.342671\n",
      "1         2.2  46071.753655\n",
      "2         1.5  39427.192652\n",
      "3         4.3  66005.436663\n",
      "4         0.5  29934.962648\n",
      "\n"
     ]
    }
   ],
   "source": [
    "import os\n",
    "import numpy as np\n",
    "import pandas as pd\n",
    "import matplotlib.pyplot as plt\n",
    "from sklearn.model_selection import train_test_split\n",
    "from sklearn.linear_model import LinearRegression\n",
    "from sklearn.metrics import r2_score\n",
    "\n",
    "def welcome():\n",
    "    print(\"Welcome to Salary Prediction System\")\n",
    "    print(\"Press ENTER key to procede\")\n",
    "    input()\n",
    "\n",
    "def checkcsv():\n",
    "    csv_files=[]\n",
    "    cur_dir=os.getcwd()\n",
    "    content_list=os.listdir(cur_dir)\n",
    "    for x in content_list:\n",
    "        if x.split('.')[-1]=='csv':\n",
    "            csv_files.append(x)\n",
    "    if len(csv_files)==0:\n",
    "        return 'No csv file in the directory'\n",
    "    else:\n",
    "        return csv_files\n",
    "        \n",
    "def display_and_select_csv(csv_files):\n",
    "    i=0\n",
    "    for file_name in csv_files:\n",
    "        print(i,'...',file_name)\n",
    "        i+=1\n",
    "    return csv_files[int(input(\"Select file to create ML model\"))]\n",
    "\n",
    "def graph(x_train,y_train,regressionObject,x_test,y_test,y_pred):\n",
    "    plt.scatter(x_train,y_train,color='red',label='training data')\n",
    "    plt.plot(x_train,regressionObject.predict(x_train),color='blue',label='Best Fit')\n",
    "    plt.scatter(x_test,y_test,color='green',label='Test data')\n",
    "    plt.scatter(x_test,y_pred,color='black',label='Pred test data')\n",
    "    plt.title(\"Salary VS Experience\")\n",
    "    plt.xlabel(\"Years of experience\")\n",
    "    plt.ylabel(\"Salary\")\n",
    "    plt.legend()\n",
    "    plt.show()\n",
    "    \n",
    "def main():\n",
    "    welcome()\n",
    "    try:\n",
    "        csv_files=checkcsv()\n",
    "        if csv_files=='No csv file in the directory':\n",
    "            raise FileNotFoundError('No csv file in the directory')\n",
    "        csv_file=display_and_select_csv(csv_files)\n",
    "        print(csv_file,'is selected')\n",
    "        print(\"Reading csv file\")\n",
    "        print(\"Creating Dataset\")\n",
    "        dataset=pd.read_csv(csv_file)\n",
    "        print(\"Dataset created\")\n",
    "        x=dataset.iloc[:,:-1].values\n",
    "        y=dataset.iloc[:,-1].values\n",
    "        s=float(input(\"Enter test data size (between 0 and 1)\"))\n",
    "        x_train,x_test,y_train,y_test=train_test_split(x,y,test_size=s)\n",
    "        print(\"Model Creation in progress\")\n",
    "        regressionObject=LinearRegression()\n",
    "        regressionObject.fit(x_train,y_train)\n",
    "        print(\"Model is created\")\n",
    "        print(\"Press ENTER key to predict test data in trained model\")\n",
    "        input()\n",
    "        y_pred=regressionObject.predict(x_test)\n",
    "        i=0\n",
    "        print(x_test,'...',y_test,'...',y_pred)\n",
    "        while i<len(x_test):\n",
    "            print(x_test[i],'...',y_test[i],'...',y_pred[i])\n",
    "            i+=1\n",
    "        print(\"Press ENTER key to see above result in graphical format\")\n",
    "        input()\n",
    "        graph(x_train,y_train,regressionObject,x_test,y_test,y_pred)\n",
    "        r2=r2_score(y_test,y_pred)\n",
    "        print(\"Our model is %2.2f%% accurate\" %(r2*100))\n",
    "        print(\"Now you can predict salary of an employee using our model\")\n",
    "        print(\"\\nEnter experience in years of the candidates, seperated by comma\")\n",
    "        exp=[float(e) for e in input().split(',')]\n",
    "        ex=[]\n",
    "        for x in exp:\n",
    "            ex.append([x])\n",
    "        experience=np.array(ex)\n",
    "        salaries=regressionObject.predict(experience)\n",
    "        plt.scatter(experience,salaries,color='black')\n",
    "        plt.xlabel(\"Years of experience\")\n",
    "        plt.ylabel(\"Salary\")\n",
    "        plt.show()\n",
    "        d=pd.DataFrame({'Experience':exp,'Salaries':salaries})\n",
    "        print(d)\n",
    "        \n",
    "    except FileNotFoundError:\n",
    "        print('No csv file in the directory')\n",
    "        print(\"Press ENTER key to exit\")\n",
    "        input()\n",
    "        exit()\n",
    "if __name__==\"__main__\":\n",
    "    main()\n",
    "    input()"
   ]
  }
 ],
 "metadata": {
  "kernelspec": {
   "display_name": "Python 3 (ipykernel)",
   "language": "python",
   "name": "python3"
  },
  "language_info": {
   "codemirror_mode": {
    "name": "ipython",
    "version": 3
   },
   "file_extension": ".py",
   "mimetype": "text/x-python",
   "name": "python",
   "nbconvert_exporter": "python",
   "pygments_lexer": "ipython3",
   "version": "3.9.12"
  }
 },
 "nbformat": 4,
 "nbformat_minor": 5
}
